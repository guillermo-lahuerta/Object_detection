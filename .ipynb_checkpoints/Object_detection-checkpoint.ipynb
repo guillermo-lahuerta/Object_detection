{
 "cells": [
  {
   "cell_type": "markdown",
   "metadata": {},
   "source": [
    "# Object detection with TensorFlow\n",
    "\n",
    "## About this notebook\n",
    "\n",
    "This notebook contains a simple implementation of a Deep Learning model for **object detection**.\n",
    "\n",
    "The model presented in this repository has been totally implemented using open source tools (i.e., Python and TensorFlow).\n"
   ]
  },
  {
   "cell_type": "markdown",
   "metadata": {},
   "source": [
    "## Imports"
   ]
  },
  {
   "cell_type": "code",
   "execution_count": 2,
   "metadata": {},
   "outputs": [],
   "source": [
    "# General imports\n",
    "import numpy as np ; np.random.seed(1) # for reproducibility\n",
    "import pandas as pd\n",
    "import os\n",
    "import zipfile\n",
    "import matplotlib.pyplot as plt\n",
    "import matplotlib.image as mpimg\n",
    "import random\n",
    "import shutil\n",
    "from datetime import datetime\n",
    "from sklearn.model_selection import train_test_split\n",
    "import joblib\n",
    "pd.options.mode.chained_assignment = None\n",
    "%matplotlib inline\n",
    "\n",
    "# TensorFlow\n",
    "import tensorflow as tf\n",
    "from tensorflow import keras\n",
    "from keras.utils import to_categorical\n",
    "from tensorflow.keras.optimizers import RMSprop, Adam\n",
    "from tensorflow.python.keras.models import Sequential\n",
    "from tensorflow.python.keras.layers import Dense, Conv2D, Flatten, MaxPooling2D \n",
    "\n",
    "# Tkinter\n",
    "from tkinter import *\n",
    "import PIL\n",
    "from PIL import Image, ImageDraw, ImageFilter"
   ]
  },
  {
   "cell_type": "markdown",
   "metadata": {},
   "source": [
    "## TensorFlow information"
   ]
  },
  {
   "cell_type": "code",
   "execution_count": 3,
   "metadata": {},
   "outputs": [
    {
     "name": "stdout",
     "output_type": "stream",
     "text": [
      "TensorFlow version: 2.4.0\n",
      "The GPU will be used for calculations.\n"
     ]
    }
   ],
   "source": [
    "# Indicate the version of Tensorflow and whether it uses the CPU or the GPU\n",
    "print(\"TensorFlow version:\", tf.__version__)\n",
    "\n",
    "if len(tf.config.list_physical_devices('GPU')) > 0:\n",
    "    print(\"The GPU will be used for calculations.\")\n",
    "    \n",
    "else:\n",
    "    print(\"The CPU will be used for calculations.\")"
   ]
  },
  {
   "cell_type": "markdown",
   "metadata": {},
   "source": [
    "## 1. Import data "
   ]
  },
  {
   "cell_type": "code",
   "execution_count": 4,
   "metadata": {},
   "outputs": [],
   "source": [
    "# Import images and labels from the MNIST database\n",
    "(train_X, train_y), (test_X, test_y) = tf.keras.datasets.mnist.load_data()"
   ]
  },
  {
   "cell_type": "markdown",
   "metadata": {},
   "source": [
    "## 2. Describe data"
   ]
  },
  {
   "cell_type": "code",
   "execution_count": 5,
   "metadata": {},
   "outputs": [
    {
     "name": "stdout",
     "output_type": "stream",
     "text": [
      "Training images dimensions: (60000, 28, 28)\n",
      "Training labels size: 60000\n",
      "Test images dimensions: (10000, 28, 28)\n",
      "Test labels size: 10000\n"
     ]
    }
   ],
   "source": [
    "# Describe data dimensions\n",
    "print('Training images dimensions:', train_X.shape)\n",
    "print('Training labels size:', train_y.shape[0])\n",
    "print('Test images dimensions:', test_X.shape)\n",
    "print('Test labels size:', test_y.shape[0])"
   ]
  },
  {
   "cell_type": "code",
   "execution_count": 6,
   "metadata": {},
   "outputs": [
    {
     "data": {
      "image/png": "[encoded data removed]",
      "text/plain": [
       "<Figure size 864x864 with 16 Axes>"
      ]
     },
     "metadata": {
      "needs_background": "light"
     },
     "output_type": "display_data"
    }
   ],
   "source": [
    "# Number of pictures in the grid\n",
    "nrows = 4\n",
    "ncols = 4\n",
    "\n",
    "# Set up matplotlib fig\n",
    "longitude_image = 3 # Inches per picture\n",
    "fig = plt.gcf()\n",
    "fig.set_size_inches(ncols * longitude_image, nrows * longitude_image)\n",
    "\n",
    "# Plot some examples\n",
    "for i in range(nrows*ncols):  \n",
    "    sp = plt.subplot(nrows, ncols, i + 1)\n",
    "    sp.axis('Off') # Don't show axes (or gridlines)\n",
    "    plt.imshow(train_X[i], cmap=plt.get_cmap('gray'))\n",
    "    plt.title('This is a ' + str(train_y[i]))\n",
    "\n",
    "# Plot grid\n",
    "plt.show()"
   ]
  },
  {
   "cell_type": "markdown",
   "metadata": {},
   "source": [
    "## 3. Data Preprocessing"
   ]
  },
  {
   "cell_type": "markdown",
   "metadata": {},
   "source": [
    "### Shuffle data"
   ]
  },
  {
   "cell_type": "code",
   "execution_count": 7,
   "metadata": {},
   "outputs": [],
   "source": [
    "# Shuffle train data\n",
    "permut = np.random.permutation(train_X.shape[0])\n",
    "train_X = train_X[permut]\n",
    "train_y = train_y[permut]\n",
    "\n",
    "# Shuffle test data\n",
    "permut = np.random.permutation(test_X.shape[0])\n",
    "test_X = test_X[permut]\n",
    "test_y = test_y[permut]"
   ]
  },
  {
   "cell_type": "markdown",
   "metadata": {},
   "source": [
    "### Reshape"
   ]
  },
  {
   "cell_type": "code",
   "execution_count": 8,
   "metadata": {},
   "outputs": [
    {
     "name": "stdout",
     "output_type": "stream",
     "text": [
      "Training images dimensions: (60000, 28, 28, 1)\n",
      "Test images dimensions: (10000, 28, 28, 1)\n"
     ]
    }
   ],
   "source": [
    "# Reshape images to include the channels\n",
    "train_X = train_X.reshape(train_X.shape + (1,))\n",
    "test_X = test_X.reshape(test_X.shape + (1,))\n",
    "\n",
    "# Describe data dimensions\n",
    "print('Training images dimensions:', train_X.shape)\n",
    "print('Test images dimensions:', test_X.shape)"
   ]
  },
  {
   "cell_type": "markdown",
   "metadata": {},
   "source": [
    "### Normalize"
   ]
  },
  {
   "cell_type": "code",
   "execution_count": 9,
   "metadata": {},
   "outputs": [],
   "source": [
    "# Normalize\n",
    "train_X = train_X / 255.\n",
    "test_X = test_X / 255.              "
   ]
  },
  {
   "cell_type": "markdown",
   "metadata": {},
   "source": [
    "### Convert labels to One-hot"
   ]
  },
  {
   "cell_type": "code",
   "execution_count": 10,
   "metadata": {},
   "outputs": [],
   "source": [
    "# Converte Labels to one hot encoded format\n",
    "train_y_one_hot = to_categorical(train_y)\n",
    "test_y_one_hot = to_categorical(test_y)"
   ]
  },
  {
   "cell_type": "markdown",
   "metadata": {},
   "source": [
    "### Create validation set"
   ]
  },
  {
   "cell_type": "code",
   "execution_count": 11,
   "metadata": {},
   "outputs": [],
   "source": [
    "# Create validation set\n",
    "X_train, X_val, y_train, y_val = train_test_split(train_X, \n",
    "                                                  train_y_one_hot, \n",
    "                                                  test_size=0.05, \n",
    "                                                  random_state=1)"
   ]
  },
  {
   "cell_type": "code",
   "execution_count": 12,
   "metadata": {},
   "outputs": [
    {
     "name": "stdout",
     "output_type": "stream",
     "text": [
      "Training images dimensions: (57000, 28, 28, 1)\n",
      "Training labels size: 57000\n",
      "Validation images dimensions: (3000, 28, 28, 1)\n",
      "Validation labels size: 3000\n",
      "Test images dimensions: (10000, 28, 28, 1)\n",
      "Test labels size: 10000\n"
     ]
    }
   ],
   "source": [
    "# Describe data dimensions\n",
    "print('Training images dimensions:', X_train.shape)\n",
    "print('Training labels size:', y_train.shape[0])\n",
    "print('Validation images dimensions:', X_val.shape)\n",
    "print('Validation labels size:', y_val.shape[0])\n",
    "print('Test images dimensions:', test_X.shape)\n",
    "print('Test labels size:', test_y.shape[0])"
   ]
  },
  {
   "cell_type": "markdown",
   "metadata": {},
   "source": [
    "## 4. Convolutional NN\n"
   ]
  },
  {
   "cell_type": "code",
   "execution_count": 1,
   "metadata": {},
   "outputs": [
    {
     "name": "stdout",
     "output_type": "stream",
     "text": [
      "The last model saved will be used.\n"
     ]
    }
   ],
   "source": [
    "# Decide whether you want to retrain the model or not\n",
    "retrain = False # True\n",
    "\n",
    "if retrain:\n",
    "    print('The model will be retrained.')\n",
    "else:\n",
    "    print('The last saved model saved will be used.')"
   ]
  },
  {
   "cell_type": "markdown",
   "metadata": {},
   "source": [
    "### Model"
   ]
  },
  {
   "cell_type": "code",
   "execution_count": 13,
   "metadata": {},
   "outputs": [],
   "source": [
    "if retrain:\n",
    "    \n",
    "    # Create LeNet-5 architecture\n",
    "    lenet_5_model = tf.keras.Sequential([\n",
    "        tf.keras.layers.Conv2D(32, (3,3), activation='relu', input_shape=(28,28,1)),\n",
    "        tf.keras.layers.Conv2D(64, (3,3), activation='relu'),\n",
    "        tf.keras.layers.MaxPooling2D(2,2),\n",
    "        tf.keras.layers.Dropout(0.25),\n",
    "        tf.keras.layers.Flatten(),\n",
    "        tf.keras.layers.Dense(128, activation='relu'),\n",
    "        tf.keras.layers.Dropout(0.5),\n",
    "        tf.keras.layers.Dense(10, activation='softmax')\n",
    "    ])\n",
    "\n",
    "    # Print summary\n",
    "    lenet_5_model.summary()"
   ]
  },
  {
   "cell_type": "markdown",
   "metadata": {},
   "source": [
    "### Compile"
   ]
  },
  {
   "cell_type": "code",
   "execution_count": 14,
   "metadata": {},
   "outputs": [],
   "source": [
    "if retrain:\n",
    "\n",
    "    # Compile model\n",
    "    lenet_5_model.compile(\n",
    "        optimizer='adam', \n",
    "        loss='categorical_crossentropy', \n",
    "        metrics=['accuracy']\n",
    "    )"
   ]
  },
  {
   "cell_type": "markdown",
   "metadata": {},
   "source": [
    "## 5. Train"
   ]
  },
  {
   "cell_type": "code",
   "execution_count": 15,
   "metadata": {},
   "outputs": [],
   "source": [
    "if retrain:\n",
    "\n",
    "    # Set seed for random functions\n",
    "    tf.random.set_seed(1)\n",
    "\n",
    "    # Fit the model\n",
    "    history = lenet_5_model.fit(\n",
    "        x=X_train,\n",
    "        y=y_train,\n",
    "        batch_size=32,\n",
    "        epochs=30,\n",
    "        verbose=2,\n",
    "        validation_data=(X_val, y_val)\n",
    "    )"
   ]
  },
  {
   "cell_type": "code",
   "execution_count": 16,
   "metadata": {},
   "outputs": [],
   "source": [
    "if retrain:\n",
    "\n",
    "    # Save model\n",
    "    lenet_5_model.save_weights('./model/wieghts_lenet_5.h5')\n",
    "    lenet_5_model.save('./model/digit_recognizer_lenet_5.h5')\n",
    "    "
   ]
  },
  {
   "cell_type": "code",
   "execution_count": 17,
   "metadata": {},
   "outputs": [],
   "source": [
    "# Load model\n",
    "lenet_5_model = keras.models.load_model('./model/digit_recognizer_lenet_5.h5')\n"
   ]
  },
  {
   "cell_type": "markdown",
   "metadata": {},
   "source": [
    "## 6. Evaluating Accuracy and Loss for the Model"
   ]
  },
  {
   "cell_type": "code",
   "execution_count": 18,
   "metadata": {},
   "outputs": [],
   "source": [
    "if retrain:\n",
    "    \n",
    "    # Get metrics on training and test data\n",
    "    acc = history.history['accuracy']\n",
    "    val_acc = history.history['val_accuracy']\n",
    "    loss = history.history['loss']\n",
    "    val_loss = history.history['val_loss']\n",
    "    \n",
    "    # Save history objects\n",
    "    joblib.dump(acc, './model/acc_lenet_5.h5')\n",
    "    joblib.dump(val_acc, './model/val_acc_lenet_5.h5')\n",
    "    joblib.dump(loss, './model/loss_lenet_5.h5')\n",
    "    joblib.dump(val_loss, './model/val_loss_lenet_5.h5')\n",
    "    "
   ]
  },
  {
   "cell_type": "code",
   "execution_count": 19,
   "metadata": {},
   "outputs": [],
   "source": [
    "# Load history objects\n",
    "acc = joblib.load('./model/acc_lenet_5.h5')\n",
    "val_acc = joblib.load('./model/val_acc_lenet_5.h5')\n",
    "loss = joblib.load('./model/loss_lenet_5.h5')\n",
    "val_loss = joblib.load('./model/val_loss_lenet_5.h5')\n"
   ]
  },
  {
   "cell_type": "code",
   "execution_count": 20,
   "metadata": {},
   "outputs": [
    {
     "data": {
      "text/plain": [
       "Text(0.5, 0, 'Epochs')"
      ]
     },
     "execution_count": 20,
     "metadata": {},
     "output_type": "execute_result"
    },
    {
     "data": {
      "image/png": "[encoded data removed]",
      "text/plain": [
       "<Figure size 432x288 with 1 Axes>"
      ]
     },
     "metadata": {
      "needs_background": "light"
     },
     "output_type": "display_data"
    },
    {
     "data": {
      "image/png": "[encoded data removed]",
      "text/plain": [
       "<Figure size 432x288 with 1 Axes>"
      ]
     },
     "metadata": {
      "needs_background": "light"
     },
     "output_type": "display_data"
    }
   ],
   "source": [
    "# Get number of epochs\n",
    "epochs = range(len(acc)) \n",
    "\n",
    "# Plot training and validation accuracy per epoch\n",
    "plt.plot(epochs, acc, label='Training accuracy')\n",
    "plt.plot(epochs, val_acc, label='Validation accuracy')\n",
    "plt.title('Training and validation accuracy')\n",
    "plt.xlabel('Epochs')\n",
    "plt.legend(loc=0)\n",
    "plt.figure()\n",
    "\n",
    "# Plot training and validation loss per epoch\n",
    "plt.plot(epochs, loss, label='Training loss')\n",
    "plt.plot(epochs, val_loss, label='Validation loss')\n",
    "plt.legend(loc=0)\n",
    "plt.title('Training and validation loss')\n",
    "plt.xlabel('Epochs')\n"
   ]
  },
  {
   "cell_type": "markdown",
   "metadata": {},
   "source": [
    "## 7. Test images"
   ]
  },
  {
   "cell_type": "code",
   "execution_count": 21,
   "metadata": {},
   "outputs": [
    {
     "data": {
      "image/png": "[encoded data removed]",
      "text/plain": [
       "<Figure size 1080x1080 with 25 Axes>"
      ]
     },
     "metadata": {
      "needs_background": "light"
     },
     "output_type": "display_data"
    }
   ],
   "source": [
    "# Number of pictures in the grid\n",
    "nrows = 5\n",
    "ncols = 5\n",
    "\n",
    "# Set up matplotlib fig\n",
    "longitude_image = 3 # Inches per picture\n",
    "fig = plt.gcf()\n",
    "fig.set_size_inches(ncols * longitude_image, nrows * longitude_image)\n",
    "\n",
    "# Plot some examples\n",
    "for i in range(nrows*ncols):\n",
    "    # Pre-process image\n",
    "    x = test_X[i].reshape((1,) + test_X[i].shape)\n",
    "    # Predict\n",
    "    classes = lenet_5_model.predict(x)\n",
    "    certainty = str(np.max(classes*100).round(1)) + '%'\n",
    "    prediction = np.argmax(classes, axis=1)\n",
    "    # Plot image\n",
    "    sp = plt.subplot(nrows, ncols, i + 1)\n",
    "    sp.axis('Off') # Don't show axes (or gridlines)\n",
    "    plt.imshow(test_X[i], cmap=plt.get_cmap('gray'))\n",
    "    plt.title('This is a ' + str(prediction[0]) + ' [' + certainty + ']')\n",
    "\n",
    "# Plot grid\n",
    "plt.show()\n"
   ]
  },
  {
   "cell_type": "markdown",
   "metadata": {},
   "source": [
    "## 8. Use case"
   ]
  },
  {
   "cell_type": "code",
   "execution_count": 27,
   "metadata": {},
   "outputs": [],
   "source": [
    "# Create canvas to draw digits\n",
    "use_case_path = './data/use_case/'\n",
    "\n",
    "def save():\n",
    "    global i\n",
    "    image_name = 'image_' + str(i) + '.png'   \n",
    "    new_image.save(use_case_path + image_name)\n",
    "    i += 1\n",
    "    clear()\n",
    "    \n",
    "def clear():\n",
    "    global new_image, draw\n",
    "    cv.delete(\"all\")\n",
    "    new_image = PIL.Image.new('RGB', (560, 560), 'black')\n",
    "    draw = ImageDraw.Draw(new_image)\n",
    "\n",
    "def activate_paint(e):\n",
    "    global lastx, lasty\n",
    "    cv.bind('<B1-Motion>', paint)\n",
    "    lastx, lasty = e.x, e.y\n",
    "\n",
    "def paint(e):\n",
    "    global lastx, lasty\n",
    "    x, y = e.x, e.y\n",
    "    cv.create_line((lastx, lasty, x, y), fill='white', width=60, capstyle=ROUND, smooth=True)\n",
    "    draw.line((lastx, lasty, x, y), fill='white', width=60)\n",
    "    lastx, lasty = x, y\n",
    "\n",
    "# Initialize variables\n",
    "root = Tk()\n",
    "lastx, lasty = None, None\n",
    "i = 0\n",
    "\n",
    "# Create canvas\n",
    "cv = Canvas(root, width=560, height=560, bg='black')\n",
    "cv.bind('<1>', activate_paint)\n",
    "cv.pack(expand=YES, fill=BOTH)\n",
    "\n",
    "# Create new image\n",
    "new_image = PIL.Image.new('RGB', (560, 560), 'black')\n",
    "draw = ImageDraw.Draw(new_image)\n",
    "\n",
    "# Add buttons\n",
    "btn_save = Button(text=\"Save\", command=save, fg=\"green\")\n",
    "btn_save.pack()\n",
    "btn_clear = Button(text=\"Clear\", command=clear)\n",
    "btn_clear.pack()\n",
    "\n",
    "# Add title\n",
    "root.title(\"Digit recognition\")\n",
    "\n",
    "# Remove previous images stored\n",
    "filelist = [f for f in os.listdir(use_case_path) if f.endswith(\".png\") ]\n",
    "for f in filelist:\n",
    "    os.remove(os.path.join(use_case_path, f))\n",
    "\n",
    "# Run\n",
    "root.mainloop()"
   ]
  },
  {
   "cell_type": "code",
   "execution_count": 28,
   "metadata": {},
   "outputs": [
    {
     "data": {
      "image/png": "[encoded data removed]",
      "text/plain": [
       "<Figure size 1440x1440 with 2 Axes>"
      ]
     },
     "metadata": {
      "needs_background": "light"
     },
     "output_type": "display_data"
    }
   ],
   "source": [
    "def imageprepare(path_to_image):\n",
    "    \n",
    "    \"\"\"\"\n",
    "    Function to preprocess a raw image and transform it to MNIST style\n",
    "    \"\"\"\n",
    "    \n",
    "    # Load image and get dimensions\n",
    "    img = Image.open(path_to_image).convert('L')\n",
    "    width = float(img.size[0])\n",
    "    height = float(img.size[1])\n",
    "    \n",
    "    # Create new image\n",
    "    newImage = Image.new('L', (28, 28), 'black')\n",
    "    nwidth = int(round((20.0 / height * width), 0))  \n",
    "    img = img.resize((nwidth, 20), Image.ANTIALIAS).filter(ImageFilter.SHARPEN)\n",
    "    wleft = int(round(((28 - nwidth) / 2), 0)) \n",
    "    newImage.paste(img, (wleft, 4))  \n",
    "#     type(newImage.getdata())\n",
    "    \n",
    "    # Process image\n",
    "    img_array = np.array(newImage.getdata()) \n",
    "    img_array = tf.reshape(img_array, [28, 28, 1])\n",
    "\n",
    "    return img_array\n",
    "\n",
    "# Get names of pictures\n",
    "use_case_names = os.listdir(use_case_path)\n",
    "\n",
    "# Number of pictures in the grid\n",
    "nrows = 4\n",
    "ncols = 4\n",
    "\n",
    "# Set up matplotlib fig\n",
    "longitude_image = 5 # Inches per picture\n",
    "fig = plt.gcf()\n",
    "fig.set_size_inches(ncols * longitude_image, nrows * longitude_image)\n",
    "\n",
    "# Get names of pictures\n",
    "use_case_names = os.listdir(use_case_path)\n",
    "\n",
    "# Get path to each image\n",
    "use_case_pix = [os.path.join(use_case_path, fname) for fname in use_case_names[:nrows*ncols]]\n",
    "\n",
    "# Plot some examples\n",
    "for i, img_path in enumerate(use_case_pix):\n",
    "    # Load image\n",
    "#     img = tf.keras.preprocessing.image.load_img(img_path, target_size=(28, 28), grayscale=True)\n",
    "    img = imageprepare(img_path)\n",
    "    # Pre-process image\n",
    "    input_img = keras.preprocessing.image.img_to_array(img)\n",
    "    input_img = input_img / 255.\n",
    "    input_img = input_img.reshape((1,) + input_img.shape)\n",
    "    # Predict\n",
    "    classes = lenet_5_model.predict(input_img)\n",
    "    certainty = str(np.max(classes*100).round(1)) + '%'\n",
    "    prediction = np.argmax(classes, axis=1)\n",
    "    # Plot image\n",
    "    sp = plt.subplot(nrows, ncols, i + 1)\n",
    "    sp.axis('Off') # Don't show axes (or gridlines)\n",
    "#     img = mpimg.imread(img_path)\n",
    "    plt.imshow(img, cmap=plt.get_cmap('gray'))\n",
    "    plt.title('This is a ' + str(prediction[0]) + ' [' + certainty + ']')\n",
    "\n",
    "# Plot grid\n",
    "plt.show()"
   ]
  },
  {
   "cell_type": "code",
   "execution_count": 29,
   "metadata": {},
   "outputs": [
    {
     "name": "stdout",
     "output_type": "stream",
     "text": [
      "Finished at 2021-01-22 19:51:29\n"
     ]
    }
   ],
   "source": [
    "# Print time when finished\n",
    "now = datetime.now()\n",
    "print(\"Finished at\", now.strftime(\"%Y-%m-%d %H:%M:%S\"))"
   ]
  },
  {
   "cell_type": "code",
   "execution_count": null,
   "metadata": {},
   "outputs": [],
   "source": []
  },
  {
   "cell_type": "code",
   "execution_count": null,
   "metadata": {},
   "outputs": [],
   "source": []
  }
 ],
 "metadata": {
  "kernelspec": {
   "display_name": "object_detection",
   "language": "python",
   "name": "object_detection"
  },
  "language_info": {
   "codemirror_mode": {
    "name": "ipython",
    "version": 3
   },
   "file_extension": ".py",
   "mimetype": "text/x-python",
   "name": "python",
   "nbconvert_exporter": "python",
   "pygments_lexer": "ipython3",
   "version": "3.8.5"
  }
 },
 "nbformat": 4,
 "nbformat_minor": 4
}
